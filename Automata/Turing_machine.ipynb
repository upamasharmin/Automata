{
  "nbformat": 4,
  "nbformat_minor": 0,
  "metadata": {
    "colab": {
      "provenance": []
    },
    "kernelspec": {
      "name": "python3",
      "display_name": "Python 3"
    },
    "language_info": {
      "name": "python"
    }
  },
  "cells": [
    {
      "cell_type": "markdown",
      "source": [
        " {0^n 1^n | n >= 1}"
      ],
      "metadata": {
        "id": "P0MLJ_CLxz9g"
      }
    },
    {
      "cell_type": "code",
      "source": [
        "class TuringMachine:\n",
        "    def __init__(self, tape, initial_state, final_state):\n",
        "        self.tape = tape\n",
        "        self.head_position = 0\n",
        "        self.current_state = initial_state\n",
        "        self.final_state = final_state\n",
        "        self.transitions = {\n",
        "            (0, '0'): (1, 'X', 1),\n",
        "            (1, '0'): (1, '0', 1),\n",
        "            (1, '1'): (2, '1', -1),\n",
        "            (2, '0'): (3, '0', -1),\n",
        "            (3, 'X'): (0, 'X', 1),\n",
        "            (3, '0'): (3, '0', -1),\n",
        "            (3, '1'): (3, '1', -1),\n",
        "        }\n",
        "    \n",
        "    def run(self):\n",
        "        while self.current_state != self.final_state:\n",
        "            symbol = self.tape[self.head_position]\n",
        "            \n",
        "            if (self.current_state, symbol) not in self.transitions:\n",
        "                return False\n",
        "            \n",
        "            next_state, write_symbol, direction = self.transitions[(self.current_state, symbol)]\n",
        "            self.tape = self.tape[:self.head_position] + write_symbol + self.tape[self.head_position+1:]\n",
        "            self.head_position += direction\n",
        "            self.current_state = next_state\n",
        "        \n",
        "        return True\n",
        "\n",
        "tm = TuringMachine('000111', 0, 2)\n",
        "print(tm.run())  \n",
        "tm = TuringMachine('0011', 0, 2)\n",
        "print(tm.run()) \n"
      ],
      "metadata": {
        "colab": {
          "base_uri": "https://localhost:8080/"
        },
        "id": "WJRvE7w9x6k6",
        "outputId": "a6f2fb1b-2fd5-4c65-b015-38bf5aff1e87"
      },
      "execution_count": null,
      "outputs": [
        {
          "output_type": "stream",
          "name": "stdout",
          "text": [
            "True\n",
            "True\n"
          ]
        }
      ]
    },
    {
      "cell_type": "markdown",
      "source": [],
      "metadata": {
        "id": "p7qW8RQbxyNF"
      }
    }
  ]
}