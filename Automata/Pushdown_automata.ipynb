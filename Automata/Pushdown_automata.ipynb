{
  "nbformat": 4,
  "nbformat_minor": 0,
  "metadata": {
    "colab": {
      "provenance": []
    },
    "kernelspec": {
      "name": "python3",
      "display_name": "Python 3"
    },
    "language_info": {
      "name": "python"
    }
  },
  "cells": [
    {
      "cell_type": "markdown",
      "source": [
        " {a^n b^n | n >= 1} "
      ],
      "metadata": {
        "id": "TtOV8lgryqwl"
      }
    },
    {
      "cell_type": "code",
      "execution_count": null,
      "metadata": {
        "colab": {
          "base_uri": "https://localhost:8080/"
        },
        "id": "RRNM3m3UnjSt",
        "outputId": "bb466a59-08b8-4e9b-e88c-b09d7649782e"
      },
      "outputs": [
        {
          "output_type": "stream",
          "name": "stdout",
          "text": [
            "True\n",
            "False\n",
            "False\n"
          ]
        }
      ],
      "source": [
        "class PDA:\n",
        "    def __init__(self):\n",
        "        self.stack = []\n",
        "        self.transitions = {\n",
        "            (0, 'a', '$'): [(1, '$a')],\n",
        "            (1, 'a', 'a'): [(1, 'aa')],\n",
        "            (1, 'b', 'a'): [(2, '')],\n",
        "            (2, 'b', 'a'): [(2, '')],\n",
        "        }\n",
        "    \n",
        "    def accept(self, string):\n",
        "        current_state = 0\n",
        "        self.stack = ['$']\n",
        "        \n",
        "        for symbol in string:\n",
        "            if (current_state, symbol, self.stack[-1]) not in self.transitions:\n",
        "                return False\n",
        "            \n",
        "            next_state, push_pop = self.transitions[(current_state, symbol, self.stack[-1])][0]\n",
        "            self.stack.pop()\n",
        "            if push_pop != '':\n",
        "                self.stack.extend(list(push_pop))\n",
        "            current_state = next_state\n",
        "        \n",
        "        return self.stack == ['$'] and current_state == 2\n",
        "\n",
        "pda = PDA()\n",
        "print(pda.accept('aabb')) \n",
        "print(pda.accept('aabbb')) \n",
        "print(pda.accept('aaaabbb')) \n"
      ]
    }
  ]
}