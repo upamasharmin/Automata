{
  "nbformat": 4,
  "nbformat_minor": 0,
  "metadata": {
    "colab": {
      "provenance": []
    },
    "kernelspec": {
      "name": "python3",
      "display_name": "Python 3"
    },
    "language_info": {
      "name": "python"
    }
  },
  "cells": [
    {
      "cell_type": "markdown",
      "source": [
        "Taking a string 'aab' and creating a dfa model whether it accepts it or not "
      ],
      "metadata": {
        "id": "cQqV5s93YIvd"
      }
    },
    {
      "cell_type": "code",
      "source": [
        "class DFA:\n",
        "  def __init__(self):\n",
        "    self.state = 0\n",
        "    self.accepting_states = [2]\n",
        "\n",
        "  def transition(self, input_string):\n",
        "    for char in input_string:\n",
        "      if self.state == 0 and char == 'a':\n",
        "        self.state = 1\n",
        "      elif self.state == 1 and char == 'b':\n",
        "        self.state = 2\n",
        "      else:\n",
        "        self.state = 0\n",
        "        break\n",
        "\n",
        "  def is_accepted(self):\n",
        "    return self.state in self.accepting_states\n",
        "\n",
        "def main():\n",
        "  dfa = DFA()\n",
        "  input_string = \"abab\"\n",
        "  dfa.transition(input_string)\n",
        "  if dfa.is_accepted():\n",
        "    print(\" string '\" + input_string + \"' is accepted.\")\n",
        "  else:\n",
        "    print(\"string '\" + input_string + \"' is rejected.\")\n",
        "\n",
        "if __name__ == \"__main__\":\n",
        "  main()\n"
      ],
      "metadata": {
        "colab": {
          "base_uri": "https://localhost:8080/"
        },
        "id": "R0HrddNUYAer",
        "outputId": "a59cc62f-c2f3-45f8-fc87-eccb00f28654"
      },
      "execution_count": null,
      "outputs": [
        {
          "output_type": "stream",
          "name": "stdout",
          "text": [
            "string 'abab' is rejected.\n"
          ]
        }
      ]
    },
    {
      "cell_type": "markdown",
      "source": [],
      "metadata": {
        "id": "ZLM6hsCeXza7"
      }
    }
  ]
}