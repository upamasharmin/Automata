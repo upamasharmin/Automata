{
  "nbformat": 4,
  "nbformat_minor": 0,
  "metadata": {
    "colab": {
      "provenance": []
    },
    "kernelspec": {
      "name": "python3",
      "display_name": "Python 3"
    },
    "language_info": {
      "name": "python"
    }
  },
  "cells": [
    {
      "cell_type": "code",
      "execution_count": null,
      "metadata": {
        "id": "NpFhff4YT-i_",
        "outputId": "a8d4c09a-f12e-4266-8b65-8c398f11666a",
        "colab": {
          "base_uri": "https://localhost:8080/"
        }
      },
      "outputs": [
        {
          "output_type": "stream",
          "name": "stdout",
          "text": [
            "True\n",
            "False\n",
            "False\n",
            "True\n",
            "False\n"
          ]
        }
      ],
      "source": [
        "class NFA:\n",
        "    def __init__(self, states, alphabet, transition_function, start_state, accept_states):\n",
        "        self.states = states\n",
        "        self.alphabet = alphabet\n",
        "        self.transition_function = transition_function\n",
        "        self.start_state = start_state\n",
        "        self.accept_states = accept_states\n",
        "\n",
        "    def is_accepted(self, input_string):\n",
        "        current_states = self.start_state\n",
        "        for symbol in input_string:\n",
        "            current_states = self.transition_function(current_states, symbol)\n",
        "        for state in current_states:\n",
        "            if state in self.accept_states:\n",
        "                return True\n",
        "        return False\n",
        "\n",
        "states = {0, 1, 2}\n",
        "alphabet = {'a', 'b'}\n",
        "\n",
        "def transition_function(current_states, symbol):\n",
        "    next_states = set()\n",
        "    for state in current_states:\n",
        "        if state == 0:\n",
        "            if symbol == 'a':\n",
        "                next_states.add(1)\n",
        "            elif symbol == 'b':\n",
        "                next_states.add(2)\n",
        "        elif state == 1:\n",
        "            if symbol == 'a':\n",
        "                next_states.add(0)\n",
        "        elif state == 2:\n",
        "            if symbol == 'b':\n",
        "                next_states.add(1)\n",
        "    return next_states\n",
        "\n",
        "start_state = {0}\n",
        "accept_states = {1}\n",
        "\n",
        "nfa = NFA(states, alphabet, transition_function, start_state, accept_states)\n",
        "print(nfa.is_accepted('a')) \n",
        "print(nfa.is_accepted('ab')) \n",
        "print(nfa.is_accepted('aba'))\n",
        "print(nfa.is_accepted('aaa'))\n",
        "print(nfa.is_accepted('abaa'))"
      ]
    },
    {
      "cell_type": "code",
      "source": [],
      "metadata": {
        "id": "CjKTLGutscer"
      },
      "execution_count": null,
      "outputs": []
    }
  ]
}