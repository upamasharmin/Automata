{
  "nbformat": 4,
  "nbformat_minor": 0,
  "metadata": {
    "colab": {
      "provenance": []
    },
    "kernelspec": {
      "name": "python3",
      "display_name": "Python 3"
    },
    "language_info": {
      "name": "python"
    }
  },
  "cells": [
    {
      "cell_type": "code",
      "source": [
        "import re\n"
      ],
      "metadata": {
        "id": "bnSlUBzGLNhf"
      },
      "execution_count": null,
      "outputs": []
    },
    {
      "cell_type": "code",
      "source": [
        "text= '''My phone number is +880-01924755727. '''\n",
        "pattern= '\\+\\d{3}-\\d{11}'\n",
        "\n",
        "matches= re.findall(pattern,text)\n",
        "matches"
      ],
      "metadata": {
        "colab": {
          "base_uri": "https://localhost:8080/"
        },
        "id": "MRcI-HNVMFPl",
        "outputId": "981a51fc-25e2-4aa0-d2f6-d69733ff970a"
      },
      "execution_count": null,
      "outputs": [
        {
          "output_type": "execute_result",
          "data": {
            "text/plain": [
              "['+880-01924755727']"
            ]
          },
          "metadata": {},
          "execution_count": 2
        }
      ]
    },
    {
      "cell_type": "code",
      "source": [
        "text2= '''My email address is  upamasharmin57@gmail.com'''\n",
        "email= re.findall(r'[\\w\\.-]+@[\\w\\.-]+',text2)\n",
        "print(email)"
      ],
      "metadata": {
        "colab": {
          "base_uri": "https://localhost:8080/"
        },
        "id": "EUceqHEgbepM",
        "outputId": "03fd5078-a62c-4776-f802-0885e7b48f04"
      },
      "execution_count": null,
      "outputs": [
        {
          "output_type": "stream",
          "name": "stdout",
          "text": [
            "['upamasharmin57@gmail.com']\n"
          ]
        }
      ]
    },
    {
      "cell_type": "code",
      "source": [
        "import re\n",
        "def match(text):\n",
        "        patterns = '^a*(b*)$'\n",
        "        if re.search(patterns,  text):\n",
        "                return 'Matched'\n",
        "        else:\n",
        "                return('Not matched')\n",
        "print(match(\" The string is ac\"))\n",
        "print(match(\"abc\"))\n",
        "print(match(\"a\"))\n",
        "print(match(\"ab\"))\n",
        "print(match(\"abb\"))\n",
        "\n"
      ],
      "metadata": {
        "colab": {
          "base_uri": "https://localhost:8080/"
        },
        "id": "sV2LrS1kbNvB",
        "outputId": "55e721d3-c32f-4a79-8ec6-61415973ec48"
      },
      "execution_count": null,
      "outputs": [
        {
          "output_type": "stream",
          "name": "stdout",
          "text": [
            "Not matched!\n",
            "Not matched!\n",
            "Matched\n",
            "Matched\n",
            "Matched\n"
          ]
        }
      ]
    },
    {
      "cell_type": "code",
      "source": [],
      "metadata": {
        "id": "23TiqCD0zDNV"
      },
      "execution_count": null,
      "outputs": []
    }
  ]
}